{
 "cells": [
  {
   "cell_type": "markdown",
   "metadata": {},
   "source": [
    "# setup"
   ]
  },
  {
   "cell_type": "code",
   "execution_count": null,
   "metadata": {},
   "outputs": [],
   "source": [
    "from google.colab import drive\n",
    "\n",
    "drive.mount(\"/content/gdrive\")\n",
    "!cp \"/content/gdrive/MyDrive/austral/tesis/data/processed_data.tar.gz\" \"./processed_data.tar.gz\"\n",
    "!tar -xf ./processed_data.tar.gz"
   ]
  },
  {
   "cell_type": "code",
   "execution_count": null,
   "metadata": {},
   "outputs": [],
   "source": [
    "REPO_PATH = \"./rtccnn\"\n",
    "\n",
    "%git clone https://github.com/gerbeldo/rtccnn.git $REPO_PATH\n",
    "\n",
    "# add path to modules to be able to import stuff\n",
    "import sys\n",
    "import os\n",
    "\n",
    "# Get the absolute path to the 'utils' directory\n",
    "utils_path = os.path.abspath(os.path.join(os.getcwd(), REPO_PATH, \"utils\"))\n",
    "models_path = os.path.abspath(os.path.join(os.getcwd(), REPO_PATH, \"models\"))\n",
    "\n",
    "# Add this path to sys.path\n",
    "if utils_path not in sys.path:\n",
    "    sys.path.append(utils_path)\n",
    "\n",
    "if models_path not in sys.path:\n",
    "    sys.path.append(models_path)"
   ]
  },
  {
   "cell_type": "markdown",
   "metadata": {},
   "source": [
    "# classes"
   ]
  },
  {
   "cell_type": "markdown",
   "metadata": {},
   "source": [
    "## Load config"
   ]
  },
  {
   "cell_type": "code",
   "execution_count": null,
   "metadata": {},
   "outputs": [],
   "source": [
    "from load_config import load_config\n",
    "\n",
    "config = load_config(os.path.join(REPO_PATH, \"colab.yaml\"))"
   ]
  },
  {
   "cell_type": "markdown",
   "metadata": {},
   "source": [
    "## Dataset"
   ]
  },
  {
   "cell_type": "code",
   "execution_count": null,
   "metadata": {},
   "outputs": [],
   "source": [
    "from dataset import CellDivisionDataset\n",
    "\n",
    "dataset = CellDivisionDataset(\n",
    "    config[\"data\"][\"annotations_path\"],\n",
    "    config[\"data\"][\"img_path\"],\n",
    "    transform=None,\n",
    "    device=config[\"env\"][\"device\"],\n",
    ")"
   ]
  },
  {
   "cell_type": "markdown",
   "metadata": {},
   "source": [
    "## train"
   ]
  },
  {
   "cell_type": "code",
   "execution_count": null,
   "metadata": {},
   "outputs": [],
   "source": [
    "from train import train_model"
   ]
  },
  {
   "cell_type": "markdown",
   "metadata": {},
   "source": [
    "## Model"
   ]
  },
  {
   "cell_type": "code",
   "execution_count": null,
   "metadata": {},
   "outputs": [],
   "source": [
    "from simple_3d_cnn import Simple3DCNN"
   ]
  },
  {
   "cell_type": "markdown",
   "metadata": {},
   "source": [
    "# training"
   ]
  },
  {
   "cell_type": "code",
   "execution_count": null,
   "metadata": {},
   "outputs": [],
   "source": [
    "config = load_config(\"rtccnn/config/colab.yaml\")\n",
    "config[\"data\"][\"img_path\"] = \"./processed_data\"\n",
    "config[\"data\"][\"annotations_path\"] = \"./processed_data/labels.csv\"\n",
    "model = Simple3DCNN()\n",
    "model = train_model(config, dataset, model)"
   ]
  }
 ],
 "metadata": {
  "language_info": {
   "name": "python"
  }
 },
 "nbformat": 4,
 "nbformat_minor": 2
}
