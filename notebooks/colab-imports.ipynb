{
 "cells": [
  {
   "cell_type": "markdown",
   "metadata": {},
   "source": [
    "# setup"
   ]
  },
  {
   "cell_type": "markdown",
   "metadata": {},
   "source": [
    "## data"
   ]
  },
  {
   "cell_type": "code",
   "execution_count": null,
   "metadata": {},
   "outputs": [],
   "source": [
    "from google.colab import drive\n",
    "\n",
    "drive.mount(\"/content/gdrive\")\n",
    "GDRIVE_PATH = \"/content/gdrive/MyDrive/austral/tesis\"\n",
    "GDRIVE_DATA_PATH = f\"{GDRIVE_PATH}/data\"\n",
    "GDRIVE_TRAINED_MODELS_PATH = f\"{GDRIVE_PATH}/trained_models\"\n",
    "\n",
    "!cp $GDRIVE_DATA_PATH/processed_data.tar.gz processed_data.tar.gz\n",
    "!tar -xf ./processed_data.tar.gz"
   ]
  },
  {
   "cell_type": "markdown",
   "metadata": {},
   "source": [
    "## Modules"
   ]
  },
  {
   "cell_type": "code",
   "execution_count": null,
   "metadata": {},
   "outputs": [],
   "source": [
    "# add path to modules to be able to import stuff\n",
    "import sys\n",
    "from pathlib import Path\n",
    "\n",
    "HOME = Path.cwd()\n",
    "REPO_PATH = HOME / \"rtccnn\"\n",
    "CONFIG_PATH = REPO_PATH / \"config\" / \"colab.yaml\"\n",
    "\n",
    "%git clone https://github.com/gerbeldo/rtccnn.git $REPO_PATH\n",
    "\n",
    "# Get the absolute path to the 'utils' directory\n",
    "utils_path = REPO_PATH / \"utils\"\n",
    "models_path = REPO_PATH / \"models\"\n",
    "\n",
    "# Add this path to sys.path\n",
    "if utils_path not in sys.path:\n",
    "    sys.path.append(str(utils_path.resolve()))\n",
    "\n",
    "if models_path not in sys.path:\n",
    "    sys.path.append(str(models_path.resolve()))"
   ]
  },
  {
   "cell_type": "markdown",
   "metadata": {},
   "source": [
    "# Import modules"
   ]
  },
  {
   "cell_type": "code",
   "execution_count": null,
   "metadata": {},
   "outputs": [],
   "source": [
    "from load_config import load_config\n",
    "from dataset import CellDivisionDataset\n",
    "from train import train_model\n",
    "from simple_3d_cnn import Simple3DCNN"
   ]
  },
  {
   "cell_type": "markdown",
   "metadata": {},
   "source": [
    "# Train model"
   ]
  },
  {
   "cell_type": "code",
   "execution_count": null,
   "metadata": {},
   "outputs": [],
   "source": [
    "config = load_config(str(CONFIG_PATH))\n",
    "\n",
    "dataset = CellDivisionDataset(\n",
    "    config[\"data\"][\"annotations_path\"],\n",
    "    config[\"data\"][\"img_path\"],\n",
    "    transform=None,\n",
    "    device=config[\"env\"][\"device\"],\n",
    ")\n",
    "\n",
    "model = Simple3DCNN()\n",
    "model = train_model(config, dataset, model)"
   ]
  },
  {
   "cell_type": "markdown",
   "metadata": {},
   "source": [
    "# Save model"
   ]
  },
  {
   "cell_type": "code",
   "execution_count": null,
   "metadata": {},
   "outputs": [],
   "source": [
    "# save model\n",
    "# prepend date and an ID\n",
    "from datetime import datetime\n",
    "\n",
    "model_id = datetime.now().strftime(\"%Y%m%d-%H%M%S\")\n",
    "\n",
    "model_path = Path(\"trained_models\") / f\"{model_id}_model.pt\"\n",
    "torch.save(model, model_path)\n",
    "\n",
    "# upload to drive\n",
    "!cp {str(model_path)} {GDRIVE_TRAINED_MODELS_PATH}/{model_id}"
   ]
  }
 ],
 "metadata": {
  "language_info": {
   "name": "python"
  }
 },
 "nbformat": 4,
 "nbformat_minor": 2
}
