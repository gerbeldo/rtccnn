{
 "cells": [
  {
   "cell_type": "code",
   "execution_count": 1,
   "metadata": {},
   "outputs": [],
   "source": [
    "# with autoreload 2, the imports are reloaded each time I run code, no need to\n",
    "# restart the kernel\n",
    "%load_ext autoreload\n",
    "%autoreload 2\n",
    "\n",
    "CONFIG_PATH = \"./config/config.yaml\""
   ]
  },
  {
   "cell_type": "code",
   "execution_count": 2,
   "metadata": {},
   "outputs": [],
   "source": [
    "# add path to modules to be able to import stuff\n",
    "import sys\n",
    "import os\n",
    "\n",
    "# Get the absolute path to the 'utils' directory\n",
    "utils_path = os.path.abspath(os.path.join(os.getcwd(), \"..\", \"utils\"))\n",
    "models_path = os.path.abspath(os.path.join(os.getcwd(), \"..\", \"models\"))\n",
    "\n",
    "# Add this path to sys.path\n",
    "if utils_path not in sys.path:\n",
    "    sys.path.append(utils_path)\n",
    "\n",
    "if models_path not in sys.path:\n",
    "    sys.path.append(models_path)"
   ]
  },
  {
   "cell_type": "code",
   "execution_count": null,
   "metadata": {},
   "outputs": [],
   "source": [
    "from load_config import load_config\n",
    "from dataset import CellDivisionDataset\n",
    "from train import train_model\n",
    "from simple_3d_cnn import Simple3DCNN"
   ]
  },
  {
   "cell_type": "markdown",
   "metadata": {},
   "source": [
    "# Training model"
   ]
  },
  {
   "cell_type": "code",
   "execution_count": null,
   "metadata": {},
   "outputs": [],
   "source": [
    "config = load_config(str(CONFIG_PATH))\n",
    "\n",
    "dataset = CellDivisionDataset(\n",
    "    config[\"data\"][\"annotations_path\"],\n",
    "    config[\"data\"][\"img_path\"],\n",
    "    transform=None,\n",
    "    device=config[\"env\"][\"device\"],\n",
    ")\n",
    "\n",
    "config[\"train\"][\"epochs\"] = 1\n",
    "\n",
    "model = Simple3DCNN()\n",
    "model = train_model(config, dataset, model)"
   ]
  }
 ],
 "metadata": {
  "kernelspec": {
   "display_name": "austral-image-preprocessing",
   "language": "python",
   "name": "python3"
  },
  "language_info": {
   "codemirror_mode": {
    "name": "ipython",
    "version": 3
   },
   "file_extension": ".py",
   "mimetype": "text/x-python",
   "name": "python",
   "nbconvert_exporter": "python",
   "pygments_lexer": "ipython3",
   "version": "3.11.3"
  }
 },
 "nbformat": 4,
 "nbformat_minor": 2
}
